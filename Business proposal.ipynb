{
 "cells": [
  {
   "cell_type": "markdown",
   "metadata": {
    "collapsed": true
   },
   "source": [
    "# The Battle of Neighborhoods | Business Proposal | Introduction"
   ]
  },
  {
   "cell_type": "markdown",
   "metadata": {},
   "source": [
    "## Introduction:\n",
    "\n",
    "The purpose of this Project is to help people easily find better facilities around their neighborhood. It will help people making informed decisions on selecting a good neighborhood out all the other neighborhoods in Scarborough, Toranto.\n",
    "\n",
    "Lots of people are migrating to various states in Canada and need information on housing prices and schools for their children. The information accounts for factors such as ease of access to cafes, schools, super markets, medical stores, malls, theatres, hospitals, like minded people, etc.\n",
    "\n",
    "This Project aims to create an analysis of features for a people migrating to Scarborough to search a best neighborhood as a comparative analysis between neighborhoods. The features include median housing price and better school according to ratings, crime rates of that particular area, road connectivity, weather conditions, good management for emergency, water resources both freash and waste water and excrement conveyed in sewers and recreational facilities. \n",
    "\n",
    "## Problem which the project tries to solve:\n",
    "\n",
    "The major purpose of this project is to allow for a comparative analysis of areas to live in based on factors that are most commonly searched and strongly affect lifestyle choices. \n",
    "\n",
    "1. List of housing options sorted on the basis of housing prices in a ascending or descending order\n",
    "2. List of schools sorted sorted on the basis of location, fees, rating and reviews\n",
    "\n",
    "\n",
    "## Foursquare API:\n",
    "This project would use Four-square API as its prime data gathering source as it has a database of millions of places, especially their places API which provides the ability to perform location search, location sharing and details about a business.\n",
    "\n",
    "\n",
    "## Work Flow:\n",
    "Using credentials of Foursquare API features of near-by places of the neighborhoods would be mined. Due to http request limitations the number of places per neighborhood parameter would reasonably be set to 100 and the radius parameter would be set to 500.\n",
    "\n",
    "\n",
    "## Clustering Approach:\n",
    "To compare the similarities of two cities, we decided to explore neighborhoods, segment them, and group them into clusters to find similar neighborhoods in a big city like New York and Toronto. To be able to do that, we need to cluster data which is a form of unsupervised machine learning: k-means clustering algorithm\n",
    "\n",
    "\n",
    "## Libraries Which are Used to Develope the Project:\n",
    "Pandas: For creating and manipulating dataframes.\n",
    "\n",
    "Folium: Python visualization library would be used to visualize the neighborhoods cluster distribution of using interactive leaflet map.\n",
    "\n",
    "Scikit Learn: For importing k-means clustering.\n",
    "\n",
    "JSON: Library to handle JSON files.\n",
    "\n",
    "XML: To separate data from presentation and XML stores data in plain text format.\n",
    "\n",
    "Geocoder: To retrieve Location Data.\n",
    "\n",
    "Beautiful Soup and Requests: To scrap and library to handle http requests.\n",
    "\n",
    "Matplotlib: Python Plotting Module."
   ]
  }
 ],
 "metadata": {
  "kernelspec": {
   "display_name": "Python 3.6",
   "language": "python",
   "name": "python3"
  },
  "language_info": {
   "codemirror_mode": {
    "name": "ipython",
    "version": 3
   },
   "file_extension": ".py",
   "mimetype": "text/x-python",
   "name": "python",
   "nbconvert_exporter": "python",
   "pygments_lexer": "ipython3",
   "version": "3.6.8"
  }
 },
 "nbformat": 4,
 "nbformat_minor": 1
}
